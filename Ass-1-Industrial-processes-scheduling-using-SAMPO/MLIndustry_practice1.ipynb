{
 "nbformat": 4,
 "nbformat_minor": 0,
 "metadata": {
  "colab": {
   "provenance": []
  },
  "kernelspec": {
   "name": "python3",
   "display_name": "Python 3"
  },
  "language_info": {
   "name": "python"
  }
 },
 "cells": [
  {
   "cell_type": "markdown",
   "source": [
    "# Practical assignment №1. Industrial processes scheduling using the SAMPO framework\n",
    "\n",
    "![sampo_logo_min.png](data:image/png;base64,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)\n",
    "\n",
    "In this practical assignment, you will create for solving industrial processes schedule optimization task for synthetically generated graph structure, which simulates the real industrial projects' data, and for the actual project in the area of gas and oil field development.\n",
    "\n",
    "In both cases, you will configure classic scheduling pipelines and tune the parameters of the genetic scheduler to solve the makespan variation of the schedule's optimization most efficiently.\n",
    "\n",
    "Link to the repository with the code, documentation, and examples: https://github.com/aimclub/SAMPO. You can get additional information about the framework from here."
   ],
   "metadata": {
    "id": "aDBRm6m1W5_b",
    "pycharm": {
     "name": "#%% md\n"
    }
   }
  },
  {
   "cell_type": "code",
   "source": [
    "# Install the stable version of the sampo package\n",
    "# Don't forget to restart the runtime in order to use newly installed versions of packages!\n",
    "!pip install sampo==0.1.1.221"
   ],
   "metadata": {
    "id": "twFrUtEgoF3e",
    "pycharm": {
     "name": "#%%\n"
    }
   },
   "execution_count": null,
   "outputs": []
  },
  {
   "cell_type": "code",
   "source": [
    "# Write your code for importing libraries here"
   ],
   "metadata": {
    "id": "nvhqEu5kBFJ5",
    "pycharm": {
     "name": "#%%\n"
    }
   },
   "execution_count": null,
   "outputs": []
  },
  {
   "cell_type": "markdown",
   "source": [
    "## 1. Schedule time optimization on synthetic graphs\n",
    "\n",
    "In this part of the task, you will:\n",
    "* create the synthetically generated graph structure, which simulates the real industrial tasks' structure;\n",
    "* configure contractors for executing these tasks;\n",
    "* set up the different types of schedulers to create schedules, which will be optimal in terms of time to complete all project tasks;\n",
    "* configure scheduling pipelines;\n",
    "* visualize final schedules."
   ],
   "metadata": {
    "id": "Rmx6mZZuBMHZ",
    "pycharm": {
     "name": "#%% md\n"
    }
   }
  },
  {
   "cell_type": "markdown",
   "source": [
    "### 1.1 Synthetic WorkGraph object creation\n",
    "\n",
    "Create the synthetic WorkGraph object in `GENERAL` mode.\n",
    "\n",
    "Resulted graph should contain 3 clusters, with the bottom border of total project works' number = 200 and the top border = 500.\n",
    "\n",
    "Use `seed=21` for the graph generation.\n"
   ],
   "metadata": {
    "id": "q1naMf2OCw-Z",
    "pycharm": {
     "name": "#%% md\n"
    }
   }
  },
  {
   "cell_type": "code",
   "source": [
    "wg_seed=21\n",
    "\n",
    "# Write your code for the synthetic Work Graph object creation here\n",
    "general_wg = None"
   ],
   "metadata": {
    "id": "PEZzgXZaB38J",
    "pycharm": {
     "name": "#%%\n"
    }
   },
   "execution_count": 3,
   "outputs": []
  },
  {
   "cell_type": "markdown",
   "source": [
    "Visualize the structure of the created WorkGraph and answer the following questions:\n",
    "1. What is the total number of works in the created graph?\n",
    "2. What is the total number of connections between the works in the created graph?\n",
    "3. What is the maximum number of successors the works in the constructed graph have?"
   ],
   "metadata": {
    "id": "QgUhs5FeETHB",
    "pycharm": {
     "name": "#%% md\n"
    }
   }
  },
  {
   "cell_type": "code",
   "source": [
    "fig_size = (10, 4) # use this value as the attribute in visualization\n",
    "\n",
    "# Write your code for the graph's visualization here\n",
    "general_wg_fig = None"
   ],
   "metadata": {
    "id": "4Bqn3BQ6ETOq",
    "pycharm": {
     "name": "#%%\n"
    }
   },
   "execution_count": null,
   "outputs": []
  },
  {
   "cell_type": "code",
   "source": [
    "# Write your code for calculating the number of works in the generated WorkGraph here\n",
    "\n",
    "# Write your code for calculating the number of connections between the works here\n",
    "\n",
    "# Write your code for calculating the maximum number of successors for works in the generated WorkGraph\n"
   ],
   "metadata": {
    "id": "C2ds1h_wFYtB",
    "pycharm": {
     "name": "#%%\n"
    }
   },
   "execution_count": null,
   "outputs": []
  },
  {
   "cell_type": "markdown",
   "source": [
    "Write your answers bellow:\n",
    "\n",
    "1. -\n",
    "2. -\n",
    "3. -"
   ],
   "metadata": {
    "id": "0ozNnpUdVKfu",
    "pycharm": {
     "name": "#%% md\n"
    }
   }
  },
  {
   "cell_type": "markdown",
   "source": [
    "### 1.2 Contractors' creation\n",
    "\n",
    "Create lists of two contractors to execute the works from the generated WorkGraph object.\n",
    "\n",
    "Use the function to get the contractor from the work graph and `MIN` and `AVG` generation modes."
   ],
   "metadata": {
    "id": "8TbZ7vKDYa5V",
    "pycharm": {
     "name": "#%% md\n"
    }
   }
  },
  {
   "cell_type": "code",
   "source": [
    "# Write your code for contractors creation here\n",
    "contractors_for_general_wg = None"
   ],
   "metadata": {
    "id": "r3o1znX0bm8F",
    "pycharm": {
     "name": "#%%\n"
    }
   },
   "execution_count": null,
   "outputs": []
  },
  {
   "cell_type": "markdown",
   "source": [
    "### 1.3 Initializing and configuring the schedulers\n",
    "\n",
    "Initialize three types of schedulers (Genetic, HEFT, and HEFTBetween) and configure the Genetic scheduler's attributes to solve the total schedule time minimization task most effectively.\n",
    "\n",
    "**Note:** Schedule time minimization is the default optimization metric for all schedulers"
   ],
   "metadata": {
    "id": "M4in2f1oa0g4",
    "pycharm": {
     "name": "#%% md\n"
    }
   }
  },
  {
   "cell_type": "code",
   "source": [
    "# Write your code for the genetic scheduler's hyperparameter tuning here\n"
   ],
   "metadata": {
    "id": "e4KQqQMjKuNh",
    "pycharm": {
     "name": "#%%\n"
    }
   },
   "execution_count": null,
   "outputs": []
  },
  {
   "cell_type": "code",
   "source": [
    "# Initialize meta-heuristic and genetic schedulers\n",
    "HEFTAddEnd_scheduler = None\n",
    "HEFTAddBetween_scheduler = None\n",
    "genetic_scheduler = None"
   ],
   "metadata": {
    "id": "p6CmalHLa0uu",
    "pycharm": {
     "name": "#%%\n"
    }
   },
   "execution_count": null,
   "outputs": []
  },
  {
   "cell_type": "markdown",
   "source": [
    "### 1.4 Configuring scheduling pipeline\n",
    "\n",
    "Create `SchedulingPipeline` object, pass the prepared data about graph structure, contractors, and schedulers to it, and build three schedules for three types of schedulers."
   ],
   "metadata": {
    "id": "33ZEbPqtS27N",
    "pycharm": {
     "name": "#%% md\n"
    }
   }
  },
  {
   "cell_type": "code",
   "source": [
    "# Write your code for creating SchedulingPipeline objects and generating schedules for all schedulers' types\n",
    "general_wg_genetic_schedule = None\n",
    "general_wg_HEFT_schedule = None\n",
    "general_wg_HEFTBetween_schedule = None"
   ],
   "metadata": {
    "id": "wA46fBxSBZV5",
    "pycharm": {
     "name": "#%%\n"
    }
   },
   "execution_count": 4,
   "outputs": []
  },
  {
   "cell_type": "markdown",
   "source": [
    "### 1.5 Visualization of the resulting schedule\n",
    "\n",
    "Visualize the Gantt charts for the best schedules for all three WorkGraphs.  \n",
    "\n",
    "Use the `ShowFig` visualization mode and the value of the attribute `remove_service_tasks=False`"
   ],
   "metadata": {
    "id": "YVz-5VVqee9Z",
    "pycharm": {
     "name": "#%% md\n"
    }
   }
  },
  {
   "cell_type": "code",
   "source": [
    "# Write your code for schedules' visualizations here\n",
    "# Do not forget to add the stages merging process for the better visualization and setup the start date\n"
   ],
   "metadata": {
    "id": "7N2l8pTrw_cM",
    "pycharm": {
     "name": "#%%\n"
    }
   },
   "execution_count": null,
   "outputs": []
  },
  {
   "cell_type": "markdown",
   "source": [
    "## 2. Schedule time optimization on the graph of a real industrial project\n",
    "\n",
    "The file `gas_network_works_info.csv` contains information on the structure of works in the project for the installation of gas distribution networks in the field. Create a WorkGraph object based on it and build a complete planning pipeline to obtain a schedule that optimizes all works' completion time.\n",
    "\n",
    "The choice of scheduler type and hyperparameter settings is left to your discretion."
   ],
   "metadata": {
    "id": "MvSBk2ciT5qk",
    "pycharm": {
     "name": "#%% md\n"
    }
   }
  },
  {
   "cell_type": "code",
   "source": [
    "# Write your code for creating WorkGraph, configuring scheduling pipeline and visualizing the results of scheduling bellow (free-form)"
   ],
   "metadata": {
    "id": "9JOEkZPsUGk0",
    "pycharm": {
     "name": "#%%\n"
    }
   },
   "execution_count": null,
   "outputs": []
  }
 ]
}